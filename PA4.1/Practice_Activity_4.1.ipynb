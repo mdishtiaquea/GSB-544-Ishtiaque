{
  "nbformat": 4,
  "nbformat_minor": 0,
  "metadata": {
    "colab": {
      "provenance": []
    },
    "kernelspec": {
      "name": "python3",
      "display_name": "Python 3"
    },
    "language_info": {
      "name": "python"
    }
  },
  "cells": [
    {
      "cell_type": "markdown",
      "source": [
        "# XML, HTML, and Web Scraping\n",
        "\n",
        "JSON and XML are two different ways to represent hierarchical data. Which one is better? There are lots of articles online which discuss similarities and differences between JSON and XML and their advantages and disadvantages. Both formats are still in current usage, so it is good to be familiar with both. However, JSON is more common, so we'll focus on working with JSON representations of hierarchical data.\n",
        "\n",
        "The reading covered an example of using Beautiful Soup to parse XML. Rather than doing another example XML now, we'll skip straight to scraping HTML from a webpage. Both HTML and XML can be parsed in a similar way with Beautiful Soup."
      ],
      "metadata": {
        "id": "qrJX4FDa8oA8"
      }
    },
    {
      "cell_type": "code",
      "source": [
        "import pandas as pd\n",
        "import requests\n",
        "from bs4 import BeautifulSoup\n",
        "import re"
      ],
      "metadata": {
        "id": "XZhT8jhbuZSg"
      },
      "execution_count": 26,
      "outputs": []
    },
    {
      "cell_type": "markdown",
      "source": [
        "## Scraping an HTML table with Beautiful Soup"
      ],
      "metadata": {
        "id": "ApqnMQ4iV4qu"
      }
    },
    {
      "cell_type": "markdown",
      "source": [
        "Open the URL https://en.wikipedia.org/wiki/List_of_United_States_cities_by_population and scroll down until you see a table of the cities in the U.S. with population over 100,000 (as of Jul 1, 2022). We'll use Beautiful Soup to scrape information from this table."
      ],
      "metadata": {
        "id": "9SD7XOs_So3G"
      }
    },
    {
      "cell_type": "markdown",
      "source": [
        "Read in the HTML from the ULR using the `requests` library."
      ],
      "metadata": {
        "id": "HRmnzgaQS_T0"
      }
    },
    {
      "cell_type": "code",
      "source": [
        "URL = \"https://en.wikipedia.org/wiki/List_of_United_States_cities_by_population\"\n",
        "HEADERS = {\"User-Agent\": \"Mozilla/5.0 (Windows NT 10.0; Win64; x64)\"}\n",
        "\n",
        "resp = requests.get(URL, headers=HEADERS)\n",
        "html = resp.text"
      ],
      "metadata": {
        "id": "xvYzbSospYVu"
      },
      "execution_count": 27,
      "outputs": []
    },
    {
      "cell_type": "markdown",
      "source": [
        "Use Beautiful Soup to parse this string into a tree called `soup`"
      ],
      "metadata": {
        "id": "YJ1Swg6B82_J"
      }
    },
    {
      "cell_type": "code",
      "source": [
        "soup = BeautifulSoup(html, \"html.parser\")"
      ],
      "metadata": {
        "id": "e0jpmfwtpaEB"
      },
      "execution_count": 28,
      "outputs": []
    },
    {
      "cell_type": "markdown",
      "source": [
        "To find an HTML tag corresponding to a specific element on a webpage, right-click on it and choose \"Inspect element\". Go to the cities table Wikipedia page and do this now.\n",
        "\n",
        "You should find that the cities table on the Wikipedia page corresponds to the element\n",
        "\n",
        "```\n",
        "<table class=\"wikitable sortable jquery-tablesorter\" style=\"text-align:center\">\n",
        "```"
      ],
      "metadata": {
        "id": "lFxGW_KIDjnx"
      }
    },
    {
      "cell_type": "markdown",
      "source": [
        "There are many `<table>` tags on the page."
      ],
      "metadata": {
        "id": "DR50aTBZEwov"
      }
    },
    {
      "cell_type": "code",
      "source": [
        "#len(soup.find_all(\"table\"))"
      ],
      "metadata": {
        "id": "4691d-EGEwc0"
      },
      "execution_count": 29,
      "outputs": []
    },
    {
      "cell_type": "markdown",
      "source": [
        "We can use attributes like `class=` and `style=` to narrow down the list."
      ],
      "metadata": {
        "id": "H1xslM2yE1GI"
      }
    },
    {
      "cell_type": "code",
      "source": [
        "#print(\"All tables:\", len(soup.find_all(\"table\")))\n",
        "\n",
        "#print(\"wikitable tables:\", len(soup.select(\"table.wikitable\")))"
      ],
      "metadata": {
        "id": "E0Q0sa46DvTZ"
      },
      "execution_count": 30,
      "outputs": []
    },
    {
      "cell_type": "markdown",
      "source": [
        "At this point, you can manually inspect the tables on the webpage to find that the one we want is the first one (see `[0]` below). We'll store this as `table`."
      ],
      "metadata": {
        "id": "ndnRSJJiFFby"
      }
    },
    {
      "cell_type": "code",
      "source": [
        "def list_wikitable_headers(soup):\n",
        "    tables = soup.select(\"table.wikitable\")\n",
        "    print(\"wikitable count:\", len(tables))\n",
        "    def first_row_cells(tbl):\n",
        "        tr0 = tbl.find(\"tr\")\n",
        "        return [] if not tr0 else [c.get_text(\" \", strip=True) for c in tr0.find_all([\"th\",\"td\"])]\n",
        "    for i, t in enumerate(tables):\n",
        "        hdr = first_row_cells(t)\n",
        "        print(f\"\\n[{i}] {' | '.join(hdr)}\")\n",
        "    return soup.select(\"table.wikitable\")\n",
        "\n",
        "candidates = list_wikitable_headers(soup)"
      ],
      "metadata": {
        "id": "sRBSqVGlYhuT",
        "colab": {
          "base_uri": "https://localhost:8080/"
        },
        "outputId": "55b30653-a04d-4974-9b87-4006531ac826"
      },
      "execution_count": 41,
      "outputs": [
        {
          "output_type": "stream",
          "name": "stdout",
          "text": [
            "wikitable count: 7\n",
            "\n",
            "[0]  | State capital\n",
            "\n",
            "[1] City | ST | 2024 estimate | 2020 census | Change | 2020 land area | 2020 density | Location\n",
            "\n",
            "[2] Population | Number of municipal governments\n",
            "\n",
            "[3] State | Number of listed cities\n",
            "\n",
            "[4] Municipio | 2024 estimate | 2020 census | Change | 2020 land area | 2020 density | Location\n",
            "\n",
            "[5] Census- designated place | ST | 2020 census | 2010 census | Change | 2020 land area | 2020 density | Location\n",
            "\n",
            "[6] City | ST | 2024 estimate | Peak population | % decline from peak | Peak year | \n"
          ]
        }
      ]
    },
    {
      "cell_type": "markdown",
      "source": [
        "**Now you will write code to scrape the information in `table` to create a Pandas data frame with one row for each city and columns for: city, state, population (2022 estimate), and 2020 land area (sq mi).** Refer to the Notes/suggestions below as you write your code. A few Hints are provided further down, but try coding first before looking at the hints."
      ],
      "metadata": {
        "id": "j4AWo3QoYqNY"
      }
    },
    {
      "cell_type": "markdown",
      "source": [
        "Notes/suggestions:\n",
        "\n",
        "- Use as a guide the code from the reading that produced the data frame of Statistics faculty\n",
        "- Inspect the page source as you write your code\n",
        "- You will need to write a loop to get the information for all cities, but you might want to try just scraping the info for New York first\n",
        "- You will need to pull the text from the tag. If `.text` returns text with \"\\n\" at the end, try `.get_text(strip = True)` instead of `.text`\n",
        "- Don't forget to convert to a Pandas Data Frame; it should have 333 rows and 4 columns\n",
        "- The goal of this exercise is just to create the Data Frame. If you were going to use it --- e.g., what is the population density for all cities in CA? --- then you would need to clean the data first (to clean strings and convert to quantitative). (You can use Beautiful Soup to do some of the cleaning for you, but that goes beyond our scope.)"
      ],
      "metadata": {
        "id": "KfRx2_XlDUqD"
      }
    },
    {
      "cell_type": "code",
      "source": [
        "table = candidates[1]\n",
        "\n",
        "def norm(s):\n",
        "    s = s.replace(\"\\xa0\", \" \")\n",
        "    s = re.sub(r\"\\[[^\\]]*\\]\", \"\", s)\n",
        "    s = re.sub(r\"\\s+\", \" \", s)\n",
        "    return s.strip().casefold()\n",
        "\n",
        "header_cells = [th.get_text(\" \", strip=True) for th in table.find(\"tr\").find_all([\"th\",\"td\"])]\n",
        "header_norm  = [norm(h) for h in header_cells]\n",
        "\n",
        "def find_col(patterns):\n",
        "    for i, name in enumerate(header_norm):\n",
        "        if any(re.search(p, name) for p in patterns):\n",
        "            return i\n",
        "    raise KeyError(f\"Missing column; looked for {patterns} in {header_cells}\")\n",
        "\n",
        "city_i  = find_col([r\"\\bcity\\b\"])\n",
        "state_i = find_col([r\"\\bst\\b\", r\"\\bstate\\b\"])\n",
        "pop_i   = find_col([r\"2024\", r\"estimate\"])\n",
        "land_i  = find_col([r\"land\", r\"area\"])\n",
        "\n",
        "rows = []\n",
        "for tr in table.find_all(\"tr\")[1:]:\n",
        "    tds = tr.find_all([\"td\",\"th\"])\n",
        "    if len(tds) <= max(city_i, state_i, pop_i, land_i):\n",
        "        continue\n",
        "    city = tds[city_i].get_text(\" \", strip=True)\n",
        "    state = tds[state_i].get_text(\" \", strip=True)\n",
        "    pop = tds[pop_i].get_text(\" \", strip=True)\n",
        "    land = tds[land_i].get_text(\" \", strip=True)\n",
        "    rows.append({\n",
        "        \"city\": city,\n",
        "        \"state\": state,\n",
        "        \"population_latest\": pop,\n",
        "        \"land_area_sq_mi_2020\": land\n",
        "    })\n",
        "\n",
        "df_cities = pd.DataFrame(rows)\n",
        "df_cities.shape, df_cities.head(5)"
      ],
      "metadata": {
        "id": "msKiUcOZpSX7",
        "colab": {
          "base_uri": "https://localhost:8080/"
        },
        "outputId": "19306056-13ce-4c24-8a72-d97fa77a7005"
      },
      "execution_count": 43,
      "outputs": [
        {
          "output_type": "execute_result",
          "data": {
            "text/plain": [
              "((346, 4),\n",
              "              city state population_latest land_area_sq_mi_2020\n",
              " 0  New York [ c ]    NY         8,478,072                300.5\n",
              " 1     Los Angeles    CA         3,878,704                469.5\n",
              " 2         Chicago    IL         2,721,308                227.7\n",
              " 3         Houston    TX         2,390,125                640.4\n",
              " 4         Phoenix    AZ         1,673,164                518.0)"
            ]
          },
          "metadata": {},
          "execution_count": 43
        }
      ]
    },
    {
      "cell_type": "code",
      "source": [
        "import re\n",
        "df_cities[\"city\"] = df_cities[\"city\"].map(lambda s: re.sub(r\"\\[[^\\]]*\\]\", \"\", s).strip())"
      ],
      "metadata": {
        "id": "1M23w-PPtUyw"
      },
      "execution_count": 44,
      "outputs": []
    },
    {
      "cell_type": "code",
      "source": [
        "df_cities[\"population_latest\"] = (\n",
        "    df_cities[\"population_latest\"].str.replace(\",\", \"\", regex=False).astype(int)\n",
        ")\n",
        "df_cities[\"land_area_sq_mi_2020\"] = pd.to_numeric(\n",
        "    df_cities[\"land_area_sq_mi_2020\"], errors=\"coerce\"\n",
        ")"
      ],
      "metadata": {
        "id": "js0jkp9leb1n"
      },
      "execution_count": 45,
      "outputs": []
    },
    {
      "cell_type": "markdown",
      "source": [
        "Hints:\n",
        "\n",
        "- Each city is a row in the table; find all the `<tr>` tags to find all the cities\n",
        "- Look for the `<td>` tag to see table entries within a row\n",
        "- The rank column is represented by `<th>` tags, rather than `<td>` tags. So within a row, the first (that is, `[0]`) `<td>` tag corresponds to the city name."
      ],
      "metadata": {
        "id": "6s3tH82XZ1X0"
      }
    },
    {
      "cell_type": "markdown",
      "source": [
        "## Aside: Scraping an HTML table with Pandas\n",
        "\n"
      ],
      "metadata": {
        "id": "pIW4UgURNdhz"
      }
    },
    {
      "cell_type": "markdown",
      "source": [
        "The Pandas command `read_html` can be used to scrape information from an HTML table on a webpage.\n",
        "\n",
        "We can call `read_html` on the URL."
      ],
      "metadata": {
        "id": "R2ufAAMGYenH"
      }
    },
    {
      "cell_type": "code",
      "source": [
        "#pd.read_html(\"https://en.wikipedia.org/wiki/List_of_United_States_cities_by_population\")"
      ],
      "metadata": {
        "id": "YnGD1hMbpv7H"
      },
      "execution_count": 46,
      "outputs": []
    },
    {
      "cell_type": "markdown",
      "source": [
        "However, this scrapes all the tables on the webpage, not just the one we want. As with Beautiful Soup, we can narrow the search by specifying the table attributes."
      ],
      "metadata": {
        "id": "pQwWgh_cqynb"
      }
    },
    {
      "cell_type": "code",
      "source": [
        "#pd.read_html(\"https://en.wikipedia.org/wiki/List_of_United_States_cities_by_population\", attrs = {'class': 'wikitable sortable', \"style\": \"text-align:center\"})"
      ],
      "metadata": {
        "id": "4BKvPxa9qJ2-"
      },
      "execution_count": null,
      "outputs": []
    },
    {
      "cell_type": "markdown",
      "source": [
        "This still returns 3 tables. As we remarked above, the table that we want is the first one (see `[0]` below)."
      ],
      "metadata": {
        "id": "P6P7xCnPrBtS"
      }
    },
    {
      "cell_type": "code",
      "source": [
        "#df_cities2 = pd.read_html(\"https://en.wikipedia.org/wiki/List_of_United_States_cities_by_population\", attrs = {'class': 'wikitable sortable', \"style\": \"text-align:center\"})[0]\n",
        "#df_cities2"
      ],
      "metadata": {
        "id": "96L5qJvGp7ks"
      },
      "execution_count": null,
      "outputs": []
    },
    {
      "cell_type": "markdown",
      "source": [
        "Wait, that seemed much easier than using Beautiful Soup, and it returned a data frame, and we even got for free some formatting like removing the commas from the population! Why didn't we just use `read_html` in the first place? It's true the `read_html` works well when scraping information from an HTML *table*. Unfortunately, you often want to scrape information from a webpage that isn't conveniently stored in an HTML table, in which case `read_html` won't work. (It only searches for `<table>`, `<th>`, `<tr>`, and `<td>` tags, but there are many other HTML tags.) Though Beautiful Soup is not as simple as `read_html`, it is more flexible and thus more widely applicable."
      ],
      "metadata": {
        "id": "TjeczIIMYeqj"
      }
    },
    {
      "cell_type": "markdown",
      "source": [
        "## Scraping information that is NOT in a `<table>` with Beautiful Soup"
      ],
      "metadata": {
        "id": "ctj79YpgX6hw"
      }
    },
    {
      "cell_type": "markdown",
      "metadata": {
        "id": "KK6rJQbuuWwF"
      },
      "source": [
        "The Cal Poly course catalog http://catalog.calpoly.edu/collegesandprograms/collegeofsciencemathematics/statistics/#courseinventory contains a list of courses offered by the Statistics department. **You will scrape this website to obtain a Pandas data frame with one row for each DATA or STAT course and two columns: course name and number (e.g, DATA 301. Introduction to Data Science) and term typically offered (e.g., Term Typically Offered: F, W, SP).**"
      ]
    },
    {
      "cell_type": "markdown",
      "source": [
        "Note: Pandas `read_html` is not help here since the courses are not stored in a `<table>.`"
      ],
      "metadata": {
        "id": "hbLLrwxs0eWd"
      }
    },
    {
      "cell_type": "code",
      "source": [
        "#pd.read_html(\"http://catalog.calpoly.edu/collegesandprograms/collegeofsciencemathematics/statistics/#courseinventory\")"
      ],
      "metadata": {
        "id": "QIRewkca0jhz"
      },
      "execution_count": 50,
      "outputs": []
    },
    {
      "cell_type": "code",
      "source": [
        "CAT_URL = \"http://catalog.calpoly.edu/collegesandprograms/collegeofsciencemathematics/statistics/#courseinventory\"\n",
        "HEADERS = {\"User-Agent\": \"Mozilla/5.0 (Windows NT 10.0; Win64; x64)\"}\n",
        "\n",
        "resp = requests.get(CAT_URL, headers=HEADERS)\n",
        "resp.raise_for_status()\n",
        "soup = BeautifulSoup(resp.content, \"html.parser\")"
      ],
      "metadata": {
        "id": "7cn0Rjfdi6SA"
      },
      "execution_count": 52,
      "outputs": []
    },
    {
      "cell_type": "code",
      "source": [
        "course_divs = soup.find_all(\"div\", class_=\"courseblock\")\n",
        "len(course_divs)"
      ],
      "metadata": {
        "colab": {
          "base_uri": "https://localhost:8080/"
        },
        "id": "unqQw5Vzi_4y",
        "outputId": "4bf78b42-0d67-4f94-ec15-4d37fe4eaacb"
      },
      "execution_count": 53,
      "outputs": [
        {
          "output_type": "execute_result",
          "data": {
            "text/plain": [
              "74"
            ]
          },
          "metadata": {},
          "execution_count": 53
        }
      ]
    },
    {
      "cell_type": "markdown",
      "source": [
        "\n",
        "Notes/suggestions:\n",
        "\n",
        "\n",
        "- Inspect the page source as you write your code\n",
        "- The courses are not stored in a `<table>`. How are they stored?\n",
        "- You will need to write a loop to get the information for all courses, but you might want to try just scraping the info for DATA 100 first\n",
        "- What kind of tag is the course name stored in? What is the `class` of the tag?\n",
        "- What kind of tag is the quarter(s) the course is offered stored in? What is the `class` of the tag? Is this the only tag of this type with the class? How will you get the one you want?\n",
        "- You don't have to remove the number of units (e.g., 4 units) from the course name and number, but you can try it if you want\n",
        "- You will need to pull the text from the tag. If `.text` returns text with \"\\n\" at the end, try `get_text(strip = True)` instead of `text`\n",
        "- Don't forget to convert to a Pandas Data Frame; it should have 74 rows and 2 columns\n",
        "- The goal of this exercise is just to create the Data Frame. If you were going to use it then you might need to clean the data first. (You can use Beautiful Soup to do some of the cleaning for you, but that goes beyond our scope.)\n",
        "\n"
      ],
      "metadata": {
        "id": "lvSrhxS4Se7a"
      }
    },
    {
      "cell_type": "code",
      "source": [
        "rows = []\n",
        "\n",
        "for div in course_divs:\n",
        "    title_p = div.find(\"p\", class_=\"courseblocktitle\")\n",
        "    if not title_p:\n",
        "        continue\n",
        "\n",
        "    span_units = title_p.find(\"span\")\n",
        "    if span_units:\n",
        "        span_units.extract()\n",
        "\n",
        "    title = title_p.get_text(\" \", strip=True)\n",
        "\n",
        "    if not (title.startswith(\"DATA\") or title.startswith(\"STAT\")):\n",
        "        continue\n",
        "\n",
        "    term_p = div.find(\"p\", class_=\"noindent\")\n",
        "    term_raw = term_p.get_text(\" \", strip=True) if term_p else \"\"\n",
        "\n",
        "    term_clean = re.sub(r\".*Term Typically Offered:\\s*\", \"\", term_raw, flags=re.I)\n",
        "\n",
        "    rows.append({\n",
        "        \"course\": title,\n",
        "        \"term_typically_offered\": term_clean\n",
        "    })\n",
        "\n",
        "df_courses = pd.DataFrame(rows)\n",
        "df_courses.shape, df_courses.head(8)"
      ],
      "metadata": {
        "id": "ZbW6xon4vICB",
        "colab": {
          "base_uri": "https://localhost:8080/"
        },
        "outputId": "7f266a73-54be-442f-a9ac-62d5c071b072"
      },
      "execution_count": 54,
      "outputs": [
        {
          "output_type": "execute_result",
          "data": {
            "text/plain": [
              "((74, 2),\n",
              "                                               course term_typically_offered\n",
              " 0                  DATA 100. Data Science for All I.               F, W, SP\n",
              " 1            DATA 301. Introduction to Data Science.               F, W, SP\n",
              " 2         DATA 401. Data Science Process and Ethics.                      F\n",
              " 3  DATA 402. Mathematical Foundations of Data Sci...                      F\n",
              " 4        DATA 403. Data Science Projects Laboratory.                      F\n",
              " 5               DATA 441. Bioinformatics Capstone I.                      W\n",
              " 6              DATA 442. Bioinformatics Capstone II.                     SP\n",
              " 7                 DATA 451. Data Science Capstone I.                      W)"
            ]
          },
          "metadata": {},
          "execution_count": 54
        }
      ]
    },
    {
      "cell_type": "code",
      "source": [
        "print(df_courses[\"course\"].str.startswith((\"DATA\",\"STAT\")).all())\n",
        "df_courses.sample(5, random_state=1)"
      ],
      "metadata": {
        "id": "EW2sWIGavIFc",
        "colab": {
          "base_uri": "https://localhost:8080/",
          "height": 223
        },
        "outputId": "74839ffd-c15b-418f-8590-6187bab35a0b"
      },
      "execution_count": 55,
      "outputs": [
        {
          "output_type": "stream",
          "name": "stdout",
          "text": [
            "True\n"
          ]
        },
        {
          "output_type": "execute_result",
          "data": {
            "text/plain": [
              "                                              course term_typically_offered\n",
              "19                          STAT 302. Statistics II.                  W, SP\n",
              "55       STAT 485. Cooperative Education Experience.               F, W, SP\n",
              "10  STAT 130. Introduction to Statistical Reasoning.               F, W, SP\n",
              "70          STAT 566. Graduate Consulting Practicum.                     SP\n",
              "54               STAT 470. Selected Advanced Topics.                    TBD"
            ],
            "text/html": [
              "\n",
              "  <div id=\"df-ae95fa3a-fc29-4abf-b79b-1a5a156853c7\" class=\"colab-df-container\">\n",
              "    <div>\n",
              "<style scoped>\n",
              "    .dataframe tbody tr th:only-of-type {\n",
              "        vertical-align: middle;\n",
              "    }\n",
              "\n",
              "    .dataframe tbody tr th {\n",
              "        vertical-align: top;\n",
              "    }\n",
              "\n",
              "    .dataframe thead th {\n",
              "        text-align: right;\n",
              "    }\n",
              "</style>\n",
              "<table border=\"1\" class=\"dataframe\">\n",
              "  <thead>\n",
              "    <tr style=\"text-align: right;\">\n",
              "      <th></th>\n",
              "      <th>course</th>\n",
              "      <th>term_typically_offered</th>\n",
              "    </tr>\n",
              "  </thead>\n",
              "  <tbody>\n",
              "    <tr>\n",
              "      <th>19</th>\n",
              "      <td>STAT 302. Statistics II.</td>\n",
              "      <td>W, SP</td>\n",
              "    </tr>\n",
              "    <tr>\n",
              "      <th>55</th>\n",
              "      <td>STAT 485. Cooperative Education Experience.</td>\n",
              "      <td>F, W, SP</td>\n",
              "    </tr>\n",
              "    <tr>\n",
              "      <th>10</th>\n",
              "      <td>STAT 130. Introduction to Statistical Reasoning.</td>\n",
              "      <td>F, W, SP</td>\n",
              "    </tr>\n",
              "    <tr>\n",
              "      <th>70</th>\n",
              "      <td>STAT 566. Graduate Consulting Practicum.</td>\n",
              "      <td>SP</td>\n",
              "    </tr>\n",
              "    <tr>\n",
              "      <th>54</th>\n",
              "      <td>STAT 470. Selected Advanced Topics.</td>\n",
              "      <td>TBD</td>\n",
              "    </tr>\n",
              "  </tbody>\n",
              "</table>\n",
              "</div>\n",
              "    <div class=\"colab-df-buttons\">\n",
              "\n",
              "  <div class=\"colab-df-container\">\n",
              "    <button class=\"colab-df-convert\" onclick=\"convertToInteractive('df-ae95fa3a-fc29-4abf-b79b-1a5a156853c7')\"\n",
              "            title=\"Convert this dataframe to an interactive table.\"\n",
              "            style=\"display:none;\">\n",
              "\n",
              "  <svg xmlns=\"http://www.w3.org/2000/svg\" height=\"24px\" viewBox=\"0 -960 960 960\">\n",
              "    <path d=\"M120-120v-720h720v720H120Zm60-500h600v-160H180v160Zm220 220h160v-160H400v160Zm0 220h160v-160H400v160ZM180-400h160v-160H180v160Zm440 0h160v-160H620v160ZM180-180h160v-160H180v160Zm440 0h160v-160H620v160Z\"/>\n",
              "  </svg>\n",
              "    </button>\n",
              "\n",
              "  <style>\n",
              "    .colab-df-container {\n",
              "      display:flex;\n",
              "      gap: 12px;\n",
              "    }\n",
              "\n",
              "    .colab-df-convert {\n",
              "      background-color: #E8F0FE;\n",
              "      border: none;\n",
              "      border-radius: 50%;\n",
              "      cursor: pointer;\n",
              "      display: none;\n",
              "      fill: #1967D2;\n",
              "      height: 32px;\n",
              "      padding: 0 0 0 0;\n",
              "      width: 32px;\n",
              "    }\n",
              "\n",
              "    .colab-df-convert:hover {\n",
              "      background-color: #E2EBFA;\n",
              "      box-shadow: 0px 1px 2px rgba(60, 64, 67, 0.3), 0px 1px 3px 1px rgba(60, 64, 67, 0.15);\n",
              "      fill: #174EA6;\n",
              "    }\n",
              "\n",
              "    .colab-df-buttons div {\n",
              "      margin-bottom: 4px;\n",
              "    }\n",
              "\n",
              "    [theme=dark] .colab-df-convert {\n",
              "      background-color: #3B4455;\n",
              "      fill: #D2E3FC;\n",
              "    }\n",
              "\n",
              "    [theme=dark] .colab-df-convert:hover {\n",
              "      background-color: #434B5C;\n",
              "      box-shadow: 0px 1px 3px 1px rgba(0, 0, 0, 0.15);\n",
              "      filter: drop-shadow(0px 1px 2px rgba(0, 0, 0, 0.3));\n",
              "      fill: #FFFFFF;\n",
              "    }\n",
              "  </style>\n",
              "\n",
              "    <script>\n",
              "      const buttonEl =\n",
              "        document.querySelector('#df-ae95fa3a-fc29-4abf-b79b-1a5a156853c7 button.colab-df-convert');\n",
              "      buttonEl.style.display =\n",
              "        google.colab.kernel.accessAllowed ? 'block' : 'none';\n",
              "\n",
              "      async function convertToInteractive(key) {\n",
              "        const element = document.querySelector('#df-ae95fa3a-fc29-4abf-b79b-1a5a156853c7');\n",
              "        const dataTable =\n",
              "          await google.colab.kernel.invokeFunction('convertToInteractive',\n",
              "                                                    [key], {});\n",
              "        if (!dataTable) return;\n",
              "\n",
              "        const docLinkHtml = 'Like what you see? Visit the ' +\n",
              "          '<a target=\"_blank\" href=https://colab.research.google.com/notebooks/data_table.ipynb>data table notebook</a>'\n",
              "          + ' to learn more about interactive tables.';\n",
              "        element.innerHTML = '';\n",
              "        dataTable['output_type'] = 'display_data';\n",
              "        await google.colab.output.renderOutput(dataTable, element);\n",
              "        const docLink = document.createElement('div');\n",
              "        docLink.innerHTML = docLinkHtml;\n",
              "        element.appendChild(docLink);\n",
              "      }\n",
              "    </script>\n",
              "  </div>\n",
              "\n",
              "\n",
              "    <div id=\"df-b38626a2-057f-48a7-a5c0-37f852c85775\">\n",
              "      <button class=\"colab-df-quickchart\" onclick=\"quickchart('df-b38626a2-057f-48a7-a5c0-37f852c85775')\"\n",
              "                title=\"Suggest charts\"\n",
              "                style=\"display:none;\">\n",
              "\n",
              "<svg xmlns=\"http://www.w3.org/2000/svg\" height=\"24px\"viewBox=\"0 0 24 24\"\n",
              "     width=\"24px\">\n",
              "    <g>\n",
              "        <path d=\"M19 3H5c-1.1 0-2 .9-2 2v14c0 1.1.9 2 2 2h14c1.1 0 2-.9 2-2V5c0-1.1-.9-2-2-2zM9 17H7v-7h2v7zm4 0h-2V7h2v10zm4 0h-2v-4h2v4z\"/>\n",
              "    </g>\n",
              "</svg>\n",
              "      </button>\n",
              "\n",
              "<style>\n",
              "  .colab-df-quickchart {\n",
              "      --bg-color: #E8F0FE;\n",
              "      --fill-color: #1967D2;\n",
              "      --hover-bg-color: #E2EBFA;\n",
              "      --hover-fill-color: #174EA6;\n",
              "      --disabled-fill-color: #AAA;\n",
              "      --disabled-bg-color: #DDD;\n",
              "  }\n",
              "\n",
              "  [theme=dark] .colab-df-quickchart {\n",
              "      --bg-color: #3B4455;\n",
              "      --fill-color: #D2E3FC;\n",
              "      --hover-bg-color: #434B5C;\n",
              "      --hover-fill-color: #FFFFFF;\n",
              "      --disabled-bg-color: #3B4455;\n",
              "      --disabled-fill-color: #666;\n",
              "  }\n",
              "\n",
              "  .colab-df-quickchart {\n",
              "    background-color: var(--bg-color);\n",
              "    border: none;\n",
              "    border-radius: 50%;\n",
              "    cursor: pointer;\n",
              "    display: none;\n",
              "    fill: var(--fill-color);\n",
              "    height: 32px;\n",
              "    padding: 0;\n",
              "    width: 32px;\n",
              "  }\n",
              "\n",
              "  .colab-df-quickchart:hover {\n",
              "    background-color: var(--hover-bg-color);\n",
              "    box-shadow: 0 1px 2px rgba(60, 64, 67, 0.3), 0 1px 3px 1px rgba(60, 64, 67, 0.15);\n",
              "    fill: var(--button-hover-fill-color);\n",
              "  }\n",
              "\n",
              "  .colab-df-quickchart-complete:disabled,\n",
              "  .colab-df-quickchart-complete:disabled:hover {\n",
              "    background-color: var(--disabled-bg-color);\n",
              "    fill: var(--disabled-fill-color);\n",
              "    box-shadow: none;\n",
              "  }\n",
              "\n",
              "  .colab-df-spinner {\n",
              "    border: 2px solid var(--fill-color);\n",
              "    border-color: transparent;\n",
              "    border-bottom-color: var(--fill-color);\n",
              "    animation:\n",
              "      spin 1s steps(1) infinite;\n",
              "  }\n",
              "\n",
              "  @keyframes spin {\n",
              "    0% {\n",
              "      border-color: transparent;\n",
              "      border-bottom-color: var(--fill-color);\n",
              "      border-left-color: var(--fill-color);\n",
              "    }\n",
              "    20% {\n",
              "      border-color: transparent;\n",
              "      border-left-color: var(--fill-color);\n",
              "      border-top-color: var(--fill-color);\n",
              "    }\n",
              "    30% {\n",
              "      border-color: transparent;\n",
              "      border-left-color: var(--fill-color);\n",
              "      border-top-color: var(--fill-color);\n",
              "      border-right-color: var(--fill-color);\n",
              "    }\n",
              "    40% {\n",
              "      border-color: transparent;\n",
              "      border-right-color: var(--fill-color);\n",
              "      border-top-color: var(--fill-color);\n",
              "    }\n",
              "    60% {\n",
              "      border-color: transparent;\n",
              "      border-right-color: var(--fill-color);\n",
              "    }\n",
              "    80% {\n",
              "      border-color: transparent;\n",
              "      border-right-color: var(--fill-color);\n",
              "      border-bottom-color: var(--fill-color);\n",
              "    }\n",
              "    90% {\n",
              "      border-color: transparent;\n",
              "      border-bottom-color: var(--fill-color);\n",
              "    }\n",
              "  }\n",
              "</style>\n",
              "\n",
              "      <script>\n",
              "        async function quickchart(key) {\n",
              "          const quickchartButtonEl =\n",
              "            document.querySelector('#' + key + ' button');\n",
              "          quickchartButtonEl.disabled = true;  // To prevent multiple clicks.\n",
              "          quickchartButtonEl.classList.add('colab-df-spinner');\n",
              "          try {\n",
              "            const charts = await google.colab.kernel.invokeFunction(\n",
              "                'suggestCharts', [key], {});\n",
              "          } catch (error) {\n",
              "            console.error('Error during call to suggestCharts:', error);\n",
              "          }\n",
              "          quickchartButtonEl.classList.remove('colab-df-spinner');\n",
              "          quickchartButtonEl.classList.add('colab-df-quickchart-complete');\n",
              "        }\n",
              "        (() => {\n",
              "          let quickchartButtonEl =\n",
              "            document.querySelector('#df-b38626a2-057f-48a7-a5c0-37f852c85775 button');\n",
              "          quickchartButtonEl.style.display =\n",
              "            google.colab.kernel.accessAllowed ? 'block' : 'none';\n",
              "        })();\n",
              "      </script>\n",
              "    </div>\n",
              "\n",
              "    </div>\n",
              "  </div>\n"
            ],
            "application/vnd.google.colaboratory.intrinsic+json": {
              "type": "dataframe",
              "summary": "{\n  \"name\": \"df_courses\",\n  \"rows\": 5,\n  \"fields\": [\n    {\n      \"column\": \"course\",\n      \"properties\": {\n        \"dtype\": \"string\",\n        \"num_unique_values\": 5,\n        \"samples\": [\n          \"STAT\\u00a0485. Cooperative Education Experience.\",\n          \"STAT\\u00a0470. Selected Advanced Topics.\",\n          \"STAT\\u00a0130. Introduction to Statistical Reasoning.\"\n        ],\n        \"semantic_type\": \"\",\n        \"description\": \"\"\n      }\n    },\n    {\n      \"column\": \"term_typically_offered\",\n      \"properties\": {\n        \"dtype\": \"string\",\n        \"num_unique_values\": 4,\n        \"samples\": [\n          \"F, W, SP\",\n          \"TBD\",\n          \"W, SP\"\n        ],\n        \"semantic_type\": \"\",\n        \"description\": \"\"\n      }\n    }\n  ]\n}"
            }
          },
          "metadata": {},
          "execution_count": 55
        }
      ]
    },
    {
      "cell_type": "markdown",
      "source": [
        "Hints:\n",
        "\n",
        "- Each course is represented by a `<div>` with `class=courseblock`, so you can find all the courses with `soup.find_all(\"div\", {\"class\": \"courseblock\"})`\n",
        "- The course name is in a `<p>` tag with `class=courseblocktitle`, inside a `<strong>` tag. (Though I don't think we need to find the strong tag here.)\n",
        "- The term typically offered is in `<p>` tag with `class=noindent`. However, there are several tags with this class; term typically offered is the first one.\n",
        "- If you want to use Beautiful Soup to remove the course units (e.g., 4 units), find the `<span>` tag within the course name tag and `.extract()` this span tag"
      ],
      "metadata": {
        "id": "17e8M_OsaHJz"
      }
    }
  ]
}